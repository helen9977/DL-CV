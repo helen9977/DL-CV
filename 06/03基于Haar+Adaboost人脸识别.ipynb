{
 "cells": [
  {
   "cell_type": "code",
   "execution_count": null,
   "metadata": {},
   "outputs": [
    {
     "name": "stdout",
     "output_type": "stream",
     "text": [
      "face= 1\n",
      "eyes= 3\n"
     ]
    }
   ],
   "source": [
    "import cv2\n",
    "import numpy as np\n",
    "# load xml\n",
    "face_xml  = cv2.CascadeClassifier('haarcascade_frontalface_default.xml')\n",
    "eye_xml = cv2.CascadeClassifier('haarcascade_eye.xml')\n",
    "\n",
    "# load jpg\n",
    "img = cv2.imread('image1.jpg',1)\n",
    "cv2.imshow('src',img)\n",
    "\n",
    "gray = cv2.cvtColor(img,cv2.COLOR_BGR2GRAY)\n",
    "\n",
    "faces = face_xml.detectMultiScale(gray,1.3,5) # 起始坐标  长 宽\n",
    "print ('face=',len(faces))\n",
    "\n",
    "#draw\n",
    "for (x,y,w,h) in faces:\n",
    "    cv2.rectangle(img,(x,y),(x+w,y+h),(255,0,0),2)\n",
    "    roi_face=gray[y:y+h,x:x+w] #先行后列\n",
    "    roi_color=img[y:y+h,x:x+w]\n",
    "    \n",
    "    eyes = eye_xml.detectMultiScale(roi_face) #灰度图像\n",
    "    print ('eye=',len(eyes))\n",
    "    for (e_x,e_y,e_w,e_h) in eyes:\n",
    "        cv2.rectangle(roi_color,(e_x,e_y),(e_x+e_w,e_y+e_h),(0,255,0),2)\n",
    "\n",
    "\n",
    "cv2.imshow('dst',img)\n",
    "cv2.waitKey(0)\n"
   ]
  },
  {
   "cell_type": "code",
   "execution_count": null,
   "metadata": {},
   "outputs": [],
   "source": []
  }
 ],
 "metadata": {
  "kernelspec": {
   "display_name": "Python 3",
   "language": "python",
   "name": "python3"
  },
  "language_info": {
   "codemirror_mode": {
    "name": "ipython",
    "version": 3
   },
   "file_extension": ".py",
   "mimetype": "text/x-python",
   "name": "python",
   "nbconvert_exporter": "python",
   "pygments_lexer": "ipython3",
   "version": "3.6.6"
  }
 },
 "nbformat": 4,
 "nbformat_minor": 2
}
